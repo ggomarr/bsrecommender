{
 "cells": [
  {
   "cell_type": "code",
   "execution_count": 1,
   "id": "190f8557",
   "metadata": {},
   "outputs": [],
   "source": [
    "%config Application.log_level=\"ERROR\"\n",
    "import logging\n",
    "logging.basicConfig(\n",
    "    format='%(asctime)s %(levelname)-8s %(message)s',\n",
    "    level=logging.INFO,\n",
    "    datefmt='%Y-%m-%d %H:%M:%S')\n",
    "logger=logging.getLogger()\n",
    "logger.setLevel(logging.ERROR)"
   ]
  },
  {
   "cell_type": "code",
   "execution_count": 2,
   "id": "ac1e236e",
   "metadata": {},
   "outputs": [],
   "source": [
    "import requests\n",
    "import time\n",
    "import json\n",
    "import itertools\n",
    "import random"
   ]
  },
  {
   "cell_type": "code",
   "execution_count": 3,
   "id": "6e265c86",
   "metadata": {},
   "outputs": [],
   "source": [
    "def get_rest_with_wait(url,wait_time=1):\n",
    "    logger.debug('Grabbing '+url+'...')\n",
    "    time.sleep(wait_time)\n",
    "    return requests.get(url).json()"
   ]
  },
  {
   "cell_type": "code",
   "execution_count": 4,
   "id": "da6f4643",
   "metadata": {},
   "outputs": [],
   "source": [
    "users='https://bsaber.com/wp-json/buddypress/v1/members?per_page={cnt}&page={pag}'\n",
    "songs_bookmarked_by='https://bsaber.com/wp-json/bsaber-api/songs/?bookmarked_by={usr}&count={cnt}&page={pag}'\n",
    "song_ratings='https://bsaber.com/wp-json/bsaber-api/songs/{song_key}/ratings'"
   ]
  },
  {
   "cell_type": "code",
   "execution_count": 21,
   "id": "033eb432",
   "metadata": {},
   "outputs": [
    {
     "data": {
      "text/plain": [
       "('./src/data/users.txt', './src/data/bookmarks.txt', './src/data/songs.txt')"
      ]
     },
     "execution_count": 21,
     "metadata": {},
     "output_type": "execute_result"
    }
   ],
   "source": [
    "wait=0.5\n",
    "\n",
    "usr_cnt=50\n",
    "usr_offs=1\n",
    "usr_pags=5\n",
    "max_usr_pags=4500\n",
    "users_file='./src/data/users.txt'\n",
    "\n",
    "bkm_cnt=200\n",
    "bookmarks_file='./src/data/bookmarks.txt'\n",
    "\n",
    "drop_song_keys=['song_key','hash']\n",
    "songs_file='./src/data/songs.txt'\n",
    "songs_enhanced_file='./src/data/songs_enhanced.txt'\n",
    "\n",
    "users_file,bookmarks_file,songs_file"
   ]
  },
  {
   "cell_type": "code",
   "execution_count": 9,
   "id": "a4ec14c3",
   "metadata": {
    "scrolled": true
   },
   "outputs": [
    {
     "name": "stdout",
     "output_type": "stream",
     "text": [
      "20211208-163349 - Started scrapping users...\n",
      "20211208-163440 - Done scrapping users!           \n"
     ]
    }
   ],
   "source": [
    "users_set=set()\n",
    "pag=0\n",
    "print(time.strftime('%Y%m%d-%H%M%S',time.localtime())+' - Started scrapping users...')\n",
    "for page in random.sample(range(max_usr_pags),usr_pags):\n",
    "    pag=pag+1\n",
    "    logger.info('Working on page {} ({} of {})...'.format(page,pag,usr_pags))\n",
    "    aux=time.strftime('%Y%m%d-%H%M%S',time.localtime())+' - Working on page {} ({} of {})...'.format(page,pag,usr_pags)\n",
    "    print(aux,end = \"\\r\")\n",
    "    url=users.format(cnt=usr_cnt,pag=page)\n",
    "    try:\n",
    "        chunk=get_rest_with_wait(url,wait)\n",
    "    except:\n",
    "        pass\n",
    "    new_users=[(user['id'],user['name']) for user in chunk if user['name'] not in users_set]\n",
    "    with open(users_file,'a+') as f:\n",
    "        logger.debug('Adding {} users to {}...'.format(len(new_users),users_file))\n",
    "        f.writelines(['{},{}\\n'.format(user[0],user[1]) for user in new_users])\n",
    "    users_set.update([user[1] for user in new_users])\n",
    "old_len=len(aux)\n",
    "aux=time.strftime('%Y%m%d-%H%M%S',time.localtime())+' - Done scrapping users!'\n",
    "print(aux+' '*(old_len-len(aux)))"
   ]
  },
  {
   "cell_type": "code",
   "execution_count": 10,
   "id": "26aa615b",
   "metadata": {
    "scrolled": true
   },
   "outputs": [
    {
     "name": "stdout",
     "output_type": "stream",
     "text": [
      "20211208-164355 - Started scrapping bookmarks...\n",
      "20211208-165205 - Done scrapping bookmarks!                               \n"
     ]
    }
   ],
   "source": [
    "songs_set=set()\n",
    "usr=0\n",
    "usrs=len(users_set)\n",
    "old_len=0\n",
    "print(time.strftime('%Y%m%d-%H%M%S',time.localtime())+' - Started scrapping bookmarks...')\n",
    "for user in users_set:\n",
    "    usr=usr+1\n",
    "    logger.info('Working on user {} of {} - {}...'.format(usr,usrs,user))\n",
    "    aux=time.strftime('%Y%m%d-%H%M%S',time.localtime())+' - Working on user {} of {} - {}...'.format(usr,usrs,user)\n",
    "    print(aux+' '*(old_len-len(aux)),end=\"\\r\")\n",
    "    old_len=len(aux)\n",
    "    bookmarks_lst=[]\n",
    "    new_songs={}\n",
    "    pag=1\n",
    "    while pag:\n",
    "        logger.debug('Working on page {} of user {}...'.format(pag,user))\n",
    "        url=songs_bookmarked_by.format(usr=user,cnt=bkm_cnt,pag=pag)\n",
    "        try:\n",
    "            chunk=get_rest_with_wait(url,wait)\n",
    "            bookmarks_lst.extend([song['song_key'] \\\n",
    "                                  for song in chunk['songs'] \\\n",
    "                                  if (song['song_key']!='') and (song['song_key'] not in bookmarks_lst)])\n",
    "            new_songs.update({song['song_key']:{key:song[key] for key in song if key not in drop_song_keys} \\\n",
    "                              for song in chunk['songs'] \\\n",
    "                              if (song['song_key']!='') and (song['song_key'] not in songs_set)})\n",
    "            pag=chunk['next_page']\n",
    "        except:\n",
    "            pag=None\n",
    "    if len(bookmarks_lst)>0:\n",
    "        with open(bookmarks_file,'a+') as f:\n",
    "            logger.debug('Adding {}\\'s {} bookmarks to {}...'.format(user,len(bookmarks_lst),bookmarks_file))\n",
    "            f.write('{},{}\\n'.format(user,','.join(bookmarks_lst)))\n",
    "        with open(songs_file,'a+') as f:\n",
    "            logger.debug('Adding {} new songs to {}...'.format(len(new_songs),songs_file))\n",
    "            f.writelines(['{},{}\\n'.format(new_song,json.dumps(new_songs[new_song])) for new_song in new_songs])\n",
    "        songs_set.update(new_songs.keys())\n",
    "\n",
    "aux=time.strftime('%Y%m%d-%H%M%S',time.localtime())+' - Done scrapping bookmarks!'\n",
    "print(aux+' '*(old_len-len(aux)))      "
   ]
  },
  {
   "cell_type": "markdown",
   "id": "cf92551d",
   "metadata": {},
   "source": [
    "### Quality control"
   ]
  },
  {
   "cell_type": "code",
   "execution_count": 11,
   "id": "84ce5822",
   "metadata": {},
   "outputs": [
    {
     "data": {
      "text/plain": [
       "103"
      ]
     },
     "execution_count": 11,
     "metadata": {},
     "output_type": "execute_result"
    }
   ],
   "source": [
    "with open(bookmarks_file,'r') as f:\n",
    "    bookmarks_dict={row.strip().split(',',1)[0]:set(row.strip().split(',',1)[1].split(',')) for row in f}\n",
    "len(bookmarks_dict)"
   ]
  },
  {
   "cell_type": "code",
   "execution_count": 12,
   "id": "8bd1fb66",
   "metadata": {
    "scrolled": true
   },
   "outputs": [
    {
     "data": {
      "text/plain": [
       "[]"
      ]
     },
     "execution_count": 12,
     "metadata": {},
     "output_type": "execute_result"
    }
   ],
   "source": [
    "[user for user in bookmarks_dict if bookmarks_dict[user]==set([''])]"
   ]
  },
  {
   "cell_type": "code",
   "execution_count": 13,
   "id": "532b0ea6",
   "metadata": {
    "scrolled": true
   },
   "outputs": [
    {
     "data": {
      "text/plain": [
       "[]"
      ]
     },
     "execution_count": 13,
     "metadata": {},
     "output_type": "execute_result"
    }
   ],
   "source": [
    "[user for user in bookmarks_dict if '' in bookmarks_dict[user]]"
   ]
  },
  {
   "cell_type": "code",
   "execution_count": 19,
   "id": "4adb3469",
   "metadata": {},
   "outputs": [
    {
     "data": {
      "text/plain": [
       "3494"
      ]
     },
     "execution_count": 19,
     "metadata": {},
     "output_type": "execute_result"
    }
   ],
   "source": [
    "with open(songs_file,'r') as f:\n",
    "    songs_dict={row.strip().split(',',1)[0]:json.loads(row.strip().split(',',1)[1]) for row in f}\n",
    "len(songs_dict)"
   ]
  },
  {
   "cell_type": "code",
   "execution_count": 20,
   "id": "850ad7d8",
   "metadata": {},
   "outputs": [
    {
     "data": {
      "text/plain": [
       "False"
      ]
     },
     "execution_count": 20,
     "metadata": {},
     "output_type": "execute_result"
    }
   ],
   "source": [
    "'' in songs_dict"
   ]
  },
  {
   "cell_type": "markdown",
   "id": "f55e9809",
   "metadata": {},
   "source": [
    "### Takes forever"
   ]
  },
  {
   "cell_type": "code",
   "execution_count": null,
   "id": "1ac6e268",
   "metadata": {},
   "outputs": [],
   "source": [
    "print(time.strftime('%Y%m%d-%H%M%S',time.localtime())+' - Started enhancing songs metadata...')\n",
    "with open(songs_file,'r') as f_songs:\n",
    "    sng=0\n",
    "    sngs=sum([1 for line in open(songs_file)])\n",
    "    old_len=0\n",
    "    for line in f_songs:\n",
    "        sng=sng+1\n",
    "        song_key,meta=line.strip().split(',',1)\n",
    "        meta=json.loads(meta)\n",
    "        logger.info('Working on song {} of {} - {}...'.format(sng,sngs,meta['title']))\n",
    "        aux=time.strftime('%Y%m%d-%H%M%S',time.localtime())+' - Working on song {} of {} - {}...'.format(sng,sngs,meta['title'])\n",
    "        print(aux+' '*(old_len-len(aux)),end=\"\\r\")\n",
    "        old_len=len(aux)\n",
    "        url=song_ratings.format(song_key=song_key)\n",
    "        meta.update(get_rest_with_wait(url,wait))\n",
    "        with open(songs_enhanced_file,'a+') as f_enhc:\n",
    "            logger.debug('Adding {} to {}...'.format(meta['title'],songs_enhanced_file))\n",
    "            f_enhc.write('{},{}\\n'.format(song_key,json.dumps(meta)))\n",
    "aux=time.strftime('%Y%m%d-%H%M%S',time.localtime())+' - Done enhancing song metadata!'\n",
    "print(aux+' '*(old_len-len(aux)))"
   ]
  },
  {
   "cell_type": "code",
   "execution_count": null,
   "id": "70098f46",
   "metadata": {},
   "outputs": [],
   "source": []
  }
 ],
 "metadata": {
  "kernelspec": {
   "display_name": "Python 3 (ipykernel)",
   "language": "python",
   "name": "python3"
  },
  "language_info": {
   "codemirror_mode": {
    "name": "ipython",
    "version": 3
   },
   "file_extension": ".py",
   "mimetype": "text/x-python",
   "name": "python",
   "nbconvert_exporter": "python",
   "pygments_lexer": "ipython3",
   "version": "3.8.10"
  }
 },
 "nbformat": 4,
 "nbformat_minor": 5
}
