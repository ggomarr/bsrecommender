{
 "cells": [
  {
   "cell_type": "code",
   "execution_count": 1,
   "id": "190f8557",
   "metadata": {},
   "outputs": [
    {
     "name": "stderr",
     "output_type": "stream",
     "text": [
      "12/08/2021 05:04:06 PM root         INFO     Hello world!\n"
     ]
    }
   ],
   "source": [
    "import logging\n",
    "logging.basicConfig()\n",
    "formatter=logging.Formatter('%(asctime)s %(name)-12s %(levelname)-8s %(message)s','%m/%d/%Y %I:%M:%S %p')\n",
    "logger=logging.getLogger()\n",
    "logger.setLevel(logging.DEBUG)\n",
    "logger.handlers[0].setFormatter(formatter)\n",
    "\n",
    "logger.info('Hello world!')"
   ]
  },
  {
   "cell_type": "code",
   "execution_count": 2,
   "id": "e3f26ed4",
   "metadata": {},
   "outputs": [
    {
     "name": "stderr",
     "output_type": "stream",
     "text": [
      "12/08/2021 05:04:08 PM root         DEBUG    Running on MightyWalrus!\n"
     ]
    }
   ],
   "source": [
    "import os\n",
    "import sys\n",
    "logger.debug('Running on {}!'.format(os.uname()[1]))"
   ]
  },
  {
   "cell_type": "code",
   "execution_count": 3,
   "id": "942b4ea5",
   "metadata": {},
   "outputs": [
    {
     "name": "stderr",
     "output_type": "stream",
     "text": [
      "12/08/2021 05:04:19 PM root         DEBUG    Adding code at ./lib/ to the path...\n"
     ]
    }
   ],
   "source": [
    "root_dirs=[\n",
    "    './lib/',\n",
    "]\n",
    "for root_dir_candidate in root_dirs:\n",
    "    if os.path.exists(root_dir_candidate):\n",
    "        root_dir=root_dir_candidate\n",
    "        break\n",
    "logger.debug('Adding code at {} to the path...'.format(root_dir))\n",
    "sys.path.insert(0, root_dir)"
   ]
  },
  {
   "cell_type": "code",
   "execution_count": 5,
   "id": "ac1e236e",
   "metadata": {},
   "outputs": [],
   "source": [
    "import itertools\n",
    "import collections\n",
    "import pandas as pd\n",
    "import parallelizer"
   ]
  },
  {
   "cell_type": "code",
   "execution_count": 22,
   "id": "5c002d2e",
   "metadata": {},
   "outputs": [
    {
     "data": {
      "text/plain": [
       "('./src/data/bookmarks.txt', './src/data/likeness.txt')"
      ]
     },
     "execution_count": 22,
     "metadata": {},
     "output_type": "execute_result"
    }
   ],
   "source": [
    "min_bookmarks=5\n",
    "max_bookmarks=250\n",
    "min_num_pairs=1\n",
    "\n",
    "bookmarks_file='./src/data/bookmarks.txt'\n",
    "likeness_file='./src/data/likeness.txt'\n",
    "bookmarks_file,likeness_file"
   ]
  },
  {
   "cell_type": "code",
   "execution_count": 16,
   "id": "3399815c",
   "metadata": {},
   "outputs": [
    {
     "name": "stdout",
     "output_type": "stream",
     "text": [
      "CPU times: user 4.27 ms, sys: 0 ns, total: 4.27 ms\n",
      "Wall time: 2.81 ms\n"
     ]
    },
    {
     "data": {
      "text/plain": [
       "72"
      ]
     },
     "execution_count": 16,
     "metadata": {},
     "output_type": "execute_result"
    }
   ],
   "source": [
    "%%time\n",
    "with open(bookmarks_file,'r') as f:\n",
    "    bookmarks_lst=[row.strip().split(',',1)[1].split(',') for row in f.readlines()]\n",
    "bookmarks_lst=[bookmarks for bookmarks in bookmarks_lst if len(bookmarks)>=min_bookmarks]\n",
    "bookmarks_lst=[bookmarks for bookmarks in bookmarks_lst if len(bookmarks)<=max_bookmarks]\n",
    "bookmarks_lst=sorted(bookmarks_lst,key=len)\n",
    "len(bookmarks_lst)"
   ]
  },
  {
   "cell_type": "markdown",
   "id": "a38c0721",
   "metadata": {},
   "source": [
    "### Raw processing"
   ]
  },
  {
   "cell_type": "code",
   "execution_count": 17,
   "id": "efa1bb04",
   "metadata": {},
   "outputs": [
    {
     "name": "stdout",
     "output_type": "stream",
     "text": [
      "CPU times: user 38.5 ms, sys: 4.23 ms, total: 42.7 ms\n",
      "Wall time: 41.6 ms\n"
     ]
    },
    {
     "data": {
      "text/plain": [
       "[(('570', '9d7'), 14),\n",
       " (('2144', '570'), 11),\n",
       " (('2087', '570'), 10),\n",
       " (('2144', '8553'), 10),\n",
       " (('570', '8553'), 10)]"
      ]
     },
     "execution_count": 17,
     "metadata": {},
     "output_type": "execute_result"
    }
   ],
   "source": [
    "%%time\n",
    "song_pairs=[ itertools.combinations(sorted(bookmarks),2) for bookmarks in bookmarks_lst ]\n",
    "song_pairs=[ pair for aux_lst in song_pairs for pair in aux_lst ]\n",
    "song_pair_counts=collections.Counter(song_pairs)\n",
    "song_pair_counts.most_common(5)"
   ]
  },
  {
   "cell_type": "code",
   "execution_count": 18,
   "id": "1c459c99",
   "metadata": {},
   "outputs": [
    {
     "name": "stdout",
     "output_type": "stream",
     "text": [
      "CPU times: user 27.5 ms, sys: 2.69 ms, total: 30.2 ms\n",
      "Wall time: 28.8 ms\n"
     ]
    }
   ],
   "source": [
    "%%time\n",
    "with open(likeness_file,'w') as f:\n",
    "    for pair in (pair for pair in song_pair_counts if song_pair_counts[pair]>min_num_pairs):\n",
    "        f.write('{},{},{}\\n'.format(pair[0],pair[1],song_pair_counts[pair]))"
   ]
  },
  {
   "cell_type": "markdown",
   "id": "8ed44b07",
   "metadata": {},
   "source": [
    "### Parallelized, with Counters"
   ]
  },
  {
   "cell_type": "code",
   "execution_count": 19,
   "id": "d229db8d",
   "metadata": {},
   "outputs": [
    {
     "name": "stdout",
     "output_type": "stream",
     "text": [
      "CPU times: user 61 ms, sys: 4.66 ms, total: 65.7 ms\n",
      "Wall time: 122 ms\n"
     ]
    },
    {
     "data": {
      "text/plain": [
       "[(('570', '9d7'), 14),\n",
       " (('2144', '570'), 11),\n",
       " (('2087', '570'), 10),\n",
       " (('2144', '8553'), 10),\n",
       " (('570', '8553'), 10)]"
      ]
     },
     "execution_count": 19,
     "metadata": {},
     "output_type": "execute_result"
    }
   ],
   "source": [
    "%%time\n",
    "def ct_process_user_bookmarks(bookmarks):\n",
    "    return list(itertools.combinations(sorted(bookmarks),2))\n",
    "out=parallelizer.parallelize(parallelizer.function_wrapper,bookmarks_lst,(ct_process_user_bookmarks,),\n",
    "                             threads=4,timer_step=10)\n",
    "ct_song_pairs=[pair for aux_lst in out for pair in aux_lst]\n",
    "ct_song_pair_counts=collections.Counter(ct_song_pairs)\n",
    "ct_song_pair_counts.most_common(5)"
   ]
  },
  {
   "cell_type": "markdown",
   "id": "f765a341",
   "metadata": {},
   "source": [
    "### Parallelized, with DataFrames"
   ]
  },
  {
   "cell_type": "code",
   "execution_count": 20,
   "id": "3d9dcfb1",
   "metadata": {},
   "outputs": [
    {
     "name": "stdout",
     "output_type": "stream",
     "text": [
      "CPU times: user 279 ms, sys: 35.1 ms, total: 314 ms\n",
      "Wall time: 318 ms\n"
     ]
    },
    {
     "data": {
      "text/html": [
       "<div>\n",
       "<style scoped>\n",
       "    .dataframe tbody tr th:only-of-type {\n",
       "        vertical-align: middle;\n",
       "    }\n",
       "\n",
       "    .dataframe tbody tr th {\n",
       "        vertical-align: top;\n",
       "    }\n",
       "\n",
       "    .dataframe thead th {\n",
       "        text-align: right;\n",
       "    }\n",
       "</style>\n",
       "<table border=\"1\" class=\"dataframe\">\n",
       "  <thead>\n",
       "    <tr style=\"text-align: right;\">\n",
       "      <th></th>\n",
       "      <th>counts</th>\n",
       "    </tr>\n",
       "    <tr>\n",
       "      <th>song_pair</th>\n",
       "      <th></th>\n",
       "    </tr>\n",
       "  </thead>\n",
       "  <tbody>\n",
       "    <tr>\n",
       "      <th>(570, 9d7)</th>\n",
       "      <td>14</td>\n",
       "    </tr>\n",
       "    <tr>\n",
       "      <th>(2144, 570)</th>\n",
       "      <td>11</td>\n",
       "    </tr>\n",
       "    <tr>\n",
       "      <th>(570, 5fc)</th>\n",
       "      <td>10</td>\n",
       "    </tr>\n",
       "    <tr>\n",
       "      <th>(2144, 8553)</th>\n",
       "      <td>10</td>\n",
       "    </tr>\n",
       "    <tr>\n",
       "      <th>(2087, 570)</th>\n",
       "      <td>10</td>\n",
       "    </tr>\n",
       "  </tbody>\n",
       "</table>\n",
       "</div>"
      ],
      "text/plain": [
       "              counts\n",
       "song_pair           \n",
       "(570, 9d7)        14\n",
       "(2144, 570)       11\n",
       "(570, 5fc)        10\n",
       "(2144, 8553)      10\n",
       "(2087, 570)       10"
      ]
     },
     "execution_count": 20,
     "metadata": {},
     "output_type": "execute_result"
    }
   ],
   "source": [
    "%%time\n",
    "def pd_process_user_bookmarks(bookmarks):\n",
    "    return collections.Counter(itertools.combinations(sorted(bookmarks),2))\n",
    "out=parallelizer.parallelize(parallelizer.function_wrapper,bookmarks_lst,(pd_process_user_bookmarks,),\n",
    "                             threads=4,timer_step=10)\n",
    "pd_out=pd.concat([pd.DataFrame.from_dict(o,orient='index') for o in out]).reset_index().set_axis(['song_pair','counts'],axis=1,inplace=False)\n",
    "pd_song_pair_counts=pd_out.groupby('song_pair').sum()\n",
    "pd_song_pair_counts.sort_values('counts',ascending=False).head()"
   ]
  },
  {
   "cell_type": "markdown",
   "id": "52d22cc7",
   "metadata": {},
   "source": [
    "### So..."
   ]
  },
  {
   "cell_type": "markdown",
   "id": "fd817f7c",
   "metadata": {},
   "source": [
    "Fancy in this case is not faster.\n",
    "\n",
    "In any case on 16GB RAM one cannot build the intermediate full pairs list for more than ~25000 users - a more map-reduce-like strategy would be needed. One can code it on a single node by accumulating song pairs user by uswer, but it becomes slow as the number of accumulated pairs increases."
   ]
  },
  {
   "cell_type": "code",
   "execution_count": null,
   "id": "bd33af5c",
   "metadata": {},
   "outputs": [],
   "source": []
  }
 ],
 "metadata": {
  "kernelspec": {
   "display_name": "Python 3 (ipykernel)",
   "language": "python",
   "name": "python3"
  },
  "language_info": {
   "codemirror_mode": {
    "name": "ipython",
    "version": 3
   },
   "file_extension": ".py",
   "mimetype": "text/x-python",
   "name": "python",
   "nbconvert_exporter": "python",
   "pygments_lexer": "ipython3",
   "version": "3.8.10"
  }
 },
 "nbformat": 4,
 "nbformat_minor": 5
}
